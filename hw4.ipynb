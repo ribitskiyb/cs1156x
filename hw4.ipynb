{
 "cells": [
  {
   "cell_type": "code",
   "execution_count": 21,
   "metadata": {},
   "outputs": [],
   "source": [
    "%matplotlib inline\n",
    "\n",
    "import importlib\n",
    "import itertools\n",
    "import numpy as np\n",
    "import matplotlib.pyplot as plt\n",
    "import hwutils as utils\n",
    "\n",
    "from scipy.optimize import fsolve"
   ]
  },
  {
   "cell_type": "markdown",
   "metadata": {},
   "source": [
    "### Generalization Error"
   ]
  },
  {
   "cell_type": "code",
   "execution_count": 39,
   "metadata": {},
   "outputs": [],
   "source": [
    "class GeneralizationErrorBound:\n",
    "    __starting_estimate = 5e-3\n",
    "    \n",
    "    def __init__(self, VC_dimension, delta):\n",
    "        # natural log of growth function approximate bound\n",
    "        self.log_growth = lambda N: N * np.log(2) if N <= VC_dimension else VC_dimension * np.log(N)\n",
    "        self.delta = delta\n",
    "    \n",
    "    def VC(self, N):\n",
    "        return np.sqrt(8 / N * (np.log(4 / self.delta) + self.log_growth(2 * N)))\n",
    "    \n",
    "    def Rademacher_penalty(self, N):\n",
    "        return np.sqrt(2 / N * (np.log(2 * N) + self.log_growth(N))) \\\n",
    "             + np.sqrt(2 / N * np.log(1 / self.delta)) \\\n",
    "             + 1 / N\n",
    "    \n",
    "    def Parrondo_VandenBroek(self, N):\n",
    "        func = lambda epsilon: epsilon \\\n",
    "            - np.sqrt(1 / N * (2 * epsilon + np.log(6 / self.delta) + self.log_growth(2 * N)))\n",
    "        return fsolve(func, x0=self.__starting_estimate)\n",
    "        \n",
    "    def Devroye(self, N):\n",
    "        func = lambda epsilon: epsilon \\\n",
    "            - np.sqrt((4 * epsilon * (1 + epsilon) + np.log(4 / delta) + self.log_growth(N ** 2)) / 2 / N)\n",
    "        return fsolve(func, x0=self.__starting_estimate)        "
   ]
  },
  {
   "cell_type": "markdown",
   "metadata": {},
   "source": [
    "**Problem 1**"
   ]
  },
  {
   "cell_type": "code",
   "execution_count": 45,
   "metadata": {},
   "outputs": [
    {
     "name": "stdout",
     "output_type": "stream",
     "text": [
      "452957\n"
     ]
    }
   ],
   "source": [
    "bound = GeneralizationErrorBound(VC_dimension=10, delta=0.05)\n",
    "epsilon_max = 0.05\n",
    "\n",
    "for N in itertools.count(start=1, step=1):\n",
    "    if bound.VC(N) <= epsilon_max:\n",
    "        print(N)\n",
    "        break"
   ]
  },
  {
   "cell_type": "markdown",
   "metadata": {},
   "source": [
    "**Problem 2, 3**"
   ]
  },
  {
   "cell_type": "code",
   "execution_count": 46,
   "metadata": {},
   "outputs": [
    {
     "name": "stdout",
     "output_type": "stream",
     "text": [
      "Bound values when N = 5:\n",
      " VC = 4.254597220000659\n",
      " Rademacher penalty = 2.813654929686762\n",
      " Parrondo & Van den Broek = [ 1.7439536]\n",
      " Devroye = [ 2.26454076]\n"
     ]
    }
   ],
   "source": [
    "bound = GeneralizationErrorBound(VC_dimension=50, delta=0.05)\n",
    "N = 5 #10000\n",
    "\n",
    "print((\"Bound values when N = {0}:\\n\"\n",
    "       \" VC = {1}\\n\"\n",
    "       \" Rademacher penalty = {2}\\n\"\n",
    "       \" Parrondo & Van den Broek = {3}\\n\"\n",
    "       \" Devroye = {4}\") \\\n",
    "      .format(N, bound.VC(N), bound.Rademacher_penalty(N), bound.Parrondo_VandenBroek(N), bound.Devroye(N)))"
   ]
  },
  {
   "cell_type": "markdown",
   "metadata": {},
   "source": [
    "### Bias and Variance"
   ]
  },
  {
   "cell_type": "markdown",
   "metadata": {},
   "source": [
    "**Problems 4, 5, 6**"
   ]
  },
  {
   "cell_type": "code",
   "execution_count": 61,
   "metadata": {},
   "outputs": [],
   "source": [
    "n_points = 201\n",
    "x = np.linspace(-1, 1, n_points)\n",
    "data = np.empty((n_points, 2))\n",
    "data[:, 0] = x\n",
    "data[:, 1] = np.sin(np.pi * x)\n",
    "\n",
    "for _ in range(1000):\n",
    "    sample_idxs = np.random.choice(n_points, size=2, replace=False)\n",
    "    data[sample_idxs]"
   ]
  },
  {
   "cell_type": "code",
   "execution_count": null,
   "metadata": {},
   "outputs": [],
   "source": []
  },
  {
   "cell_type": "code",
   "execution_count": null,
   "metadata": {},
   "outputs": [],
   "source": []
  },
  {
   "cell_type": "code",
   "execution_count": null,
   "metadata": {},
   "outputs": [],
   "source": []
  },
  {
   "cell_type": "code",
   "execution_count": null,
   "metadata": {
    "scrolled": false
   },
   "outputs": [],
   "source": []
  },
  {
   "cell_type": "code",
   "execution_count": null,
   "metadata": {},
   "outputs": [],
   "source": []
  },
  {
   "cell_type": "code",
   "execution_count": null,
   "metadata": {},
   "outputs": [],
   "source": []
  },
  {
   "cell_type": "code",
   "execution_count": null,
   "metadata": {},
   "outputs": [],
   "source": []
  },
  {
   "cell_type": "code",
   "execution_count": null,
   "metadata": {},
   "outputs": [],
   "source": []
  },
  {
   "cell_type": "code",
   "execution_count": null,
   "metadata": {},
   "outputs": [],
   "source": []
  },
  {
   "cell_type": "code",
   "execution_count": null,
   "metadata": {},
   "outputs": [],
   "source": []
  },
  {
   "cell_type": "code",
   "execution_count": null,
   "metadata": {},
   "outputs": [],
   "source": []
  },
  {
   "cell_type": "code",
   "execution_count": null,
   "metadata": {},
   "outputs": [],
   "source": []
  },
  {
   "cell_type": "code",
   "execution_count": null,
   "metadata": {},
   "outputs": [],
   "source": []
  },
  {
   "cell_type": "code",
   "execution_count": null,
   "metadata": {},
   "outputs": [],
   "source": []
  }
 ],
 "metadata": {
  "kernelspec": {
   "display_name": "Python 3",
   "language": "python",
   "name": "python3"
  },
  "language_info": {
   "codemirror_mode": {
    "name": "ipython",
    "version": 3
   },
   "file_extension": ".py",
   "mimetype": "text/x-python",
   "name": "python",
   "nbconvert_exporter": "python",
   "pygments_lexer": "ipython3",
   "version": "3.6.3"
  }
 },
 "nbformat": 4,
 "nbformat_minor": 2
}

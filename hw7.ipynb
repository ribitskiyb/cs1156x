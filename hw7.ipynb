{
 "cells": [
  {
   "cell_type": "code",
   "execution_count": 127,
   "metadata": {},
   "outputs": [],
   "source": [
    "import numpy as np\n",
    "import pandas as pd\n",
    "import matplotlib.pyplot as plt\n",
    "import hwutils as util\n",
    "\n",
    "from functools import partial\n",
    "from quadprog_ import quadprog_solve_qp\n",
    "\n",
    "%matplotlib inline"
   ]
  },
  {
   "cell_type": "code",
   "execution_count": 121,
   "metadata": {},
   "outputs": [
    {
     "data": {
      "text/plain": [
       "<module 'hwutils' from '/home/bogdan/Projects/cs1156x/hwutils.py'>"
      ]
     },
     "execution_count": 121,
     "metadata": {},
     "output_type": "execute_result"
    }
   ],
   "source": [
    "import importlib\n",
    "importlib.reload(util)"
   ]
  },
  {
   "cell_type": "markdown",
   "metadata": {},
   "source": [
    "### Validation"
   ]
  },
  {
   "cell_type": "code",
   "execution_count": 3,
   "metadata": {},
   "outputs": [],
   "source": [
    "def prepare_data(filepath):\n",
    "    raw = pd.read_csv(filepath, delimiter='\\s+', header=None).as_matrix()\n",
    "    X = raw[:, :2]\n",
    "    y = raw[:, 2]\n",
    "    return X, y"
   ]
  },
  {
   "cell_type": "code",
   "execution_count": 4,
   "metadata": {},
   "outputs": [],
   "source": [
    "train_data_path = './data/in.dta'\n",
    "test_data_path = './data/out.dta'\n",
    "\n",
    "X_in, y_in = prepare_data(train_data_path)\n",
    "X_out, y_out = prepare_data(test_data_path)"
   ]
  },
  {
   "cell_type": "code",
   "execution_count": 5,
   "metadata": {},
   "outputs": [],
   "source": [
    "def transform(X, k=7):\n",
    "    assert k in range(3, 7+1), 'k should be between 3 and 7'\n",
    "    \n",
    "    apply = {3: lambda X: np.square(X[:, 0]),\n",
    "             4: lambda X: np.square(X[:, 1]),\n",
    "             5: lambda X: np.multiply(*X.T),\n",
    "             6: lambda X: np.abs(X[:, 0] - X[:, 1]),\n",
    "             7: lambda X: np.abs(X[:, 0] + X[:, 1])}\n",
    "    \n",
    "    Z = np.ones(shape=(X.shape[0], k+1))\n",
    "    Z[:, 1:2+1] = X\n",
    "    \n",
    "    for i in range(3, k+1):\n",
    "        Z[:, i] = apply[i](X)\n",
    "    \n",
    "    return Z"
   ]
  },
  {
   "cell_type": "code",
   "execution_count": 6,
   "metadata": {},
   "outputs": [],
   "source": [
    "def highlight(series, apply, color):\n",
    "    \"\"\"\n",
    "    Highlight a cell in pandas.Series based on the criteria specified.\n",
    "    Taken from here: pandas.pydata.org/pandas-docs/stable/style.html\n",
    "    \"\"\"\n",
    "    return ['background-color: {}'.format(color) if v else '' for v in series == apply(series)]\n",
    "\n",
    "highlight_min = partial(highlight, apply=min, color='#ffadad')"
   ]
  },
  {
   "cell_type": "markdown",
   "metadata": {},
   "source": [
    "**Problems 1-4**"
   ]
  },
  {
   "cell_type": "code",
   "execution_count": 7,
   "metadata": {},
   "outputs": [],
   "source": [
    "def run_problems_1to4_solution():\n",
    "    # Problem essence part\n",
    "    ks_to_check = [3, 4, 5, 6, 7]\n",
    "\n",
    "    err_values = {'val': [], 'out': []}\n",
    "    for k in ks_to_check:\n",
    "        Z_train = transform(X_train, k)\n",
    "        Z_val = transform(X_val, k)\n",
    "        Z_out = transform(X_out, k)\n",
    "\n",
    "        w_hat = util.fit_linear_regression(X=Z_train, y=y_train)\n",
    "        Eval = util.calculate_clf_error(X=Z_val, y_true=y_val, w_hat=w_hat)\n",
    "        Eout = util.calculate_clf_error(X=Z_out, y_true=y_out, w_hat=w_hat)\n",
    "\n",
    "        err_values['val'].append(Eval)\n",
    "        err_values['out'].append(Eout)\n",
    "\n",
    "    # Presentation part\n",
    "    colnames = ['k', 'Validation error', 'Out-of-sample error']\n",
    "    return (pd.DataFrame({colnames[0]: ks_to_check,\n",
    "                   colnames[1]: err_values['val'],\n",
    "                   colnames[2]: err_values['out']})\n",
    "            [colnames]\n",
    "            .set_index(colnames[0])\n",
    "            .sort_values(by=colnames[2])\n",
    "            .style.apply(highlight_min))"
   ]
  },
  {
   "cell_type": "markdown",
   "metadata": {},
   "source": [
    "Problems 1, 2"
   ]
  },
  {
   "cell_type": "code",
   "execution_count": 8,
   "metadata": {},
   "outputs": [
    {
     "data": {
      "text/html": [
       "<style  type=\"text/css\" >\n",
       "    #T_719ff47e_c7d4_11e7_a861_b0359f0dc9e2row0_col1 {\n",
       "            background-color:  #ffadad;\n",
       "        }    #T_719ff47e_c7d4_11e7_a861_b0359f0dc9e2row1_col0 {\n",
       "            background-color:  #ffadad;\n",
       "        }</style>  \n",
       "<table id=\"T_719ff47e_c7d4_11e7_a861_b0359f0dc9e2\" > \n",
       "<thead>    <tr> \n",
       "        <th class=\"blank level0\" ></th> \n",
       "        <th class=\"col_heading level0 col0\" >Validation error</th> \n",
       "        <th class=\"col_heading level0 col1\" >Out-of-sample error</th> \n",
       "    </tr>    <tr> \n",
       "        <th class=\"index_name level0\" >k</th> \n",
       "        <th class=\"blank\" ></th> \n",
       "        <th class=\"blank\" ></th> \n",
       "    </tr></thead> \n",
       "<tbody>    <tr> \n",
       "        <th id=\"T_719ff47e_c7d4_11e7_a861_b0359f0dc9e2level0_row0\" class=\"row_heading level0 row0\" >7</th> \n",
       "        <td id=\"T_719ff47e_c7d4_11e7_a861_b0359f0dc9e2row0_col0\" class=\"data row0 col0\" >0.1</td> \n",
       "        <td id=\"T_719ff47e_c7d4_11e7_a861_b0359f0dc9e2row0_col1\" class=\"data row0 col1\" >0.072</td> \n",
       "    </tr>    <tr> \n",
       "        <th id=\"T_719ff47e_c7d4_11e7_a861_b0359f0dc9e2level0_row1\" class=\"row_heading level0 row1\" >6</th> \n",
       "        <td id=\"T_719ff47e_c7d4_11e7_a861_b0359f0dc9e2row1_col0\" class=\"data row1 col0\" >0</td> \n",
       "        <td id=\"T_719ff47e_c7d4_11e7_a861_b0359f0dc9e2row1_col1\" class=\"data row1 col1\" >0.084</td> \n",
       "    </tr>    <tr> \n",
       "        <th id=\"T_719ff47e_c7d4_11e7_a861_b0359f0dc9e2level0_row2\" class=\"row_heading level0 row2\" >5</th> \n",
       "        <td id=\"T_719ff47e_c7d4_11e7_a861_b0359f0dc9e2row2_col0\" class=\"data row2 col0\" >0.2</td> \n",
       "        <td id=\"T_719ff47e_c7d4_11e7_a861_b0359f0dc9e2row2_col1\" class=\"data row2 col1\" >0.188</td> \n",
       "    </tr>    <tr> \n",
       "        <th id=\"T_719ff47e_c7d4_11e7_a861_b0359f0dc9e2level0_row3\" class=\"row_heading level0 row3\" >4</th> \n",
       "        <td id=\"T_719ff47e_c7d4_11e7_a861_b0359f0dc9e2row3_col0\" class=\"data row3 col0\" >0.5</td> \n",
       "        <td id=\"T_719ff47e_c7d4_11e7_a861_b0359f0dc9e2row3_col1\" class=\"data row3 col1\" >0.416</td> \n",
       "    </tr>    <tr> \n",
       "        <th id=\"T_719ff47e_c7d4_11e7_a861_b0359f0dc9e2level0_row4\" class=\"row_heading level0 row4\" >3</th> \n",
       "        <td id=\"T_719ff47e_c7d4_11e7_a861_b0359f0dc9e2row4_col0\" class=\"data row4 col0\" >0.3</td> \n",
       "        <td id=\"T_719ff47e_c7d4_11e7_a861_b0359f0dc9e2row4_col1\" class=\"data row4 col1\" >0.42</td> \n",
       "    </tr></tbody> \n",
       "</table> "
      ],
      "text/plain": [
       "<pandas.io.formats.style.Styler at 0x7f5f0f27fda0>"
      ]
     },
     "execution_count": 8,
     "metadata": {},
     "output_type": "execute_result"
    }
   ],
   "source": [
    "X_train, y_train = X_in[  :25], y_in[  :25]\n",
    "X_val,   y_val   = X_in[25:  ], y_in[25:  ]\n",
    "\n",
    "run_problems_1to4_solution()"
   ]
  },
  {
   "cell_type": "markdown",
   "metadata": {},
   "source": [
    "Problems 3, 4"
   ]
  },
  {
   "cell_type": "code",
   "execution_count": 9,
   "metadata": {},
   "outputs": [
    {
     "data": {
      "text/html": [
       "<style  type=\"text/css\" >\n",
       "    #T_719ff47f_c7d4_11e7_a861_b0359f0dc9e2row0_col0 {\n",
       "            background-color:  #ffadad;\n",
       "        }    #T_719ff47f_c7d4_11e7_a861_b0359f0dc9e2row0_col1 {\n",
       "            background-color:  #ffadad;\n",
       "        }</style>  \n",
       "<table id=\"T_719ff47f_c7d4_11e7_a861_b0359f0dc9e2\" > \n",
       "<thead>    <tr> \n",
       "        <th class=\"blank level0\" ></th> \n",
       "        <th class=\"col_heading level0 col0\" >Validation error</th> \n",
       "        <th class=\"col_heading level0 col1\" >Out-of-sample error</th> \n",
       "    </tr>    <tr> \n",
       "        <th class=\"index_name level0\" >k</th> \n",
       "        <th class=\"blank\" ></th> \n",
       "        <th class=\"blank\" ></th> \n",
       "    </tr></thead> \n",
       "<tbody>    <tr> \n",
       "        <th id=\"T_719ff47f_c7d4_11e7_a861_b0359f0dc9e2level0_row0\" class=\"row_heading level0 row0\" >6</th> \n",
       "        <td id=\"T_719ff47f_c7d4_11e7_a861_b0359f0dc9e2row0_col0\" class=\"data row0 col0\" >0.08</td> \n",
       "        <td id=\"T_719ff47f_c7d4_11e7_a861_b0359f0dc9e2row0_col1\" class=\"data row0 col1\" >0.192</td> \n",
       "    </tr>    <tr> \n",
       "        <th id=\"T_719ff47f_c7d4_11e7_a861_b0359f0dc9e2level0_row1\" class=\"row_heading level0 row1\" >7</th> \n",
       "        <td id=\"T_719ff47f_c7d4_11e7_a861_b0359f0dc9e2row1_col0\" class=\"data row1 col0\" >0.12</td> \n",
       "        <td id=\"T_719ff47f_c7d4_11e7_a861_b0359f0dc9e2row1_col1\" class=\"data row1 col1\" >0.196</td> \n",
       "    </tr>    <tr> \n",
       "        <th id=\"T_719ff47f_c7d4_11e7_a861_b0359f0dc9e2level0_row2\" class=\"row_heading level0 row2\" >5</th> \n",
       "        <td id=\"T_719ff47f_c7d4_11e7_a861_b0359f0dc9e2row2_col0\" class=\"data row2 col0\" >0.2</td> \n",
       "        <td id=\"T_719ff47f_c7d4_11e7_a861_b0359f0dc9e2row2_col1\" class=\"data row2 col1\" >0.284</td> \n",
       "    </tr>    <tr> \n",
       "        <th id=\"T_719ff47f_c7d4_11e7_a861_b0359f0dc9e2level0_row3\" class=\"row_heading level0 row3\" >4</th> \n",
       "        <td id=\"T_719ff47f_c7d4_11e7_a861_b0359f0dc9e2row3_col0\" class=\"data row3 col0\" >0.36</td> \n",
       "        <td id=\"T_719ff47f_c7d4_11e7_a861_b0359f0dc9e2row3_col1\" class=\"data row3 col1\" >0.388</td> \n",
       "    </tr>    <tr> \n",
       "        <th id=\"T_719ff47f_c7d4_11e7_a861_b0359f0dc9e2level0_row4\" class=\"row_heading level0 row4\" >3</th> \n",
       "        <td id=\"T_719ff47f_c7d4_11e7_a861_b0359f0dc9e2row4_col0\" class=\"data row4 col0\" >0.28</td> \n",
       "        <td id=\"T_719ff47f_c7d4_11e7_a861_b0359f0dc9e2row4_col1\" class=\"data row4 col1\" >0.396</td> \n",
       "    </tr></tbody> \n",
       "</table> "
      ],
      "text/plain": [
       "<pandas.io.formats.style.Styler at 0x7f5f0cd71d68>"
      ]
     },
     "execution_count": 9,
     "metadata": {},
     "output_type": "execute_result"
    }
   ],
   "source": [
    "X_train, y_train = X_in[25:  ], y_in[25:  ]\n",
    "X_val,   y_val   = X_in[  :25], y_in[  :25]\n",
    "\n",
    "run_problems_1to4_solution()"
   ]
  },
  {
   "cell_type": "markdown",
   "metadata": {},
   "source": [
    "### Validation Bias"
   ]
  },
  {
   "cell_type": "code",
   "execution_count": 101,
   "metadata": {},
   "outputs": [
    {
     "data": {
      "text/plain": [
       "0.33325605378589712"
      ]
     },
     "execution_count": 101,
     "metadata": {},
     "output_type": "execute_result"
    }
   ],
   "source": [
    "size = int(1e7)\n",
    "np.random.uniform(size=(2, size)).min(axis=0).mean()"
   ]
  },
  {
   "cell_type": "markdown",
   "metadata": {},
   "source": [
    "### PLA vs. SVM"
   ]
  },
  {
   "cell_type": "code",
   "execution_count": 119,
   "metadata": {},
   "outputs": [],
   "source": [
    "INTERVAL = np.array([-1., 1.])\n",
    "\n",
    "def fit_SVM(X, y):\n",
    "    pass\n",
    "\n",
    "def run_experiment(*, train_size, test_size=int(1e4))\n",
    "    w_true = util.get_2D_line(*np.random.uniform(*INTERVAL, 4))\n",
    "    X_train, y_train, X_test, y_test = \\\n",
    "        util.get_2D_linearly_separated_datasets(interval=INTERVAL,\n",
    "                                                weights=w_true,\n",
    "                                                train_size=train_size,\n",
    "                                                test_size=test_size)"
   ]
  },
  {
   "cell_type": "code",
   "execution_count": null,
   "metadata": {},
   "outputs": [],
   "source": []
  },
  {
   "cell_type": "code",
   "execution_count": null,
   "metadata": {},
   "outputs": [],
   "source": []
  },
  {
   "cell_type": "code",
   "execution_count": null,
   "metadata": {},
   "outputs": [],
   "source": []
  },
  {
   "cell_type": "code",
   "execution_count": null,
   "metadata": {},
   "outputs": [],
   "source": []
  },
  {
   "cell_type": "code",
   "execution_count": null,
   "metadata": {},
   "outputs": [],
   "source": []
  },
  {
   "cell_type": "code",
   "execution_count": null,
   "metadata": {},
   "outputs": [],
   "source": []
  },
  {
   "cell_type": "code",
   "execution_count": null,
   "metadata": {},
   "outputs": [],
   "source": []
  },
  {
   "cell_type": "code",
   "execution_count": null,
   "metadata": {},
   "outputs": [],
   "source": []
  }
 ],
 "metadata": {
  "kernelspec": {
   "display_name": "Python 3",
   "language": "python",
   "name": "python3"
  },
  "language_info": {
   "codemirror_mode": {
    "name": "ipython",
    "version": 3
   },
   "file_extension": ".py",
   "mimetype": "text/x-python",
   "name": "python",
   "nbconvert_exporter": "python",
   "pygments_lexer": "ipython3",
   "version": "3.6.3"
  }
 },
 "nbformat": 4,
 "nbformat_minor": 2
}

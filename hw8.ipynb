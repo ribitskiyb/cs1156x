{
 "cells": [
  {
   "cell_type": "code",
   "execution_count": 95,
   "metadata": {},
   "outputs": [],
   "source": [
    "import itertools\n",
    "import numpy as np\n",
    "import pandas as pd\n",
    "import matplotlib.pyplot as plt\n",
    "import hwutils as util\n",
    "import tqdm\n",
    "\n",
    "from sklearn.svm import SVC\n",
    "from sklearn.cross_validation import StratifiedKFold\n",
    "from collections import namedtuple, defaultdict\n",
    "\n",
    "%matplotlib inline"
   ]
  },
  {
   "cell_type": "code",
   "execution_count": 2,
   "metadata": {},
   "outputs": [
    {
     "data": {
      "text/plain": [
       "<module 'hwutils' from '/home/elama/Projects/cs1156x/hwutils.py'>"
      ]
     },
     "execution_count": 2,
     "metadata": {},
     "output_type": "execute_result"
    }
   ],
   "source": [
    "import importlib\n",
    "importlib.reload(util)"
   ]
  },
  {
   "cell_type": "code",
   "execution_count": null,
   "metadata": {},
   "outputs": [],
   "source": []
  },
  {
   "cell_type": "code",
   "execution_count": 21,
   "metadata": {},
   "outputs": [],
   "source": [
    "train_data_path = './data/features.train'\n",
    "test_data_path = './data/features.test'\n",
    "\n",
    "def read_data(path):\n",
    "    return pd.read_csv(path, delimiter='\\s+', header=None,\n",
    "                       names=['digit', 'intensity', 'symmetry'])\n",
    "\n",
    "digits_train = read_data(train_data_path)\n",
    "digits_test = read_data(test_data_path)\n",
    "\n",
    "features = ['intensity', 'symmetry']"
   ]
  },
  {
   "cell_type": "markdown",
   "metadata": {},
   "source": [
    "## SVM with Soft Margins"
   ]
  },
  {
   "cell_type": "markdown",
   "metadata": {},
   "source": [
    "### Polynomial Kernels"
   ]
  },
  {
   "cell_type": "code",
   "execution_count": 23,
   "metadata": {},
   "outputs": [],
   "source": [
    "labels = [str(d) + '-vs-all' for d in range(10)]\n",
    "\n",
    "for df in [digits_train, digits_test]:\n",
    "    for digit in range(10):\n",
    "        df[labels[digit]] = (df['digit'] == digit).apply(lambda x: 1 if x else -1)\n",
    "    df['1-vs-5'] = df['digit'].apply(lambda x: {1: 1, 5: -1}.get(x))        "
   ]
  },
  {
   "cell_type": "code",
   "execution_count": 36,
   "metadata": {},
   "outputs": [
    {
     "name": "stdout",
     "output_type": "stream",
     "text": [
      "In-sample error\n",
      "1-vs-all: 0.016\n",
      "3-vs-all: 0.090\n",
      "5-vs-all: 0.076\n",
      "7-vs-all: 0.088\n",
      "9-vs-all: 0.088\n"
     ]
    }
   ],
   "source": [
    "svc = SVC(kernel='poly', degree=2, C=.01)\n",
    "\n",
    "X = digits_train[features]\n",
    "print('In-sample error')\n",
    "for digit in range(10)[1::2]:\n",
    "    y = digits_train[labels[digit]]\n",
    "    svc.fit(X, y)\n",
    "    Ein = sum(svc.predict(X) != y) / y.size\n",
    "    print('{}: {:.3f}'.format(labels[digit], Ein))"
   ]
  },
  {
   "cell_type": "code",
   "execution_count": 43,
   "metadata": {},
   "outputs": [
    {
     "data": {
      "text/plain": [
       "1854"
      ]
     },
     "execution_count": 43,
     "metadata": {},
     "output_type": "execute_result"
    }
   ],
   "source": [
    "svc.fit(X, digits_train['0-vs-all']); n_sv_0vsall = svc.n_support_.sum()\n",
    "svc.fit(X, digits_train['1-vs-all']); n_sv_1vsall = svc.n_support_.sum()\n",
    "n_sv_0vsall - n_sv_1vsall"
   ]
  },
  {
   "cell_type": "code",
   "execution_count": null,
   "metadata": {},
   "outputs": [],
   "source": []
  },
  {
   "cell_type": "code",
   "execution_count": 75,
   "metadata": {},
   "outputs": [],
   "source": [
    "train_idx = digits_train['1-vs-5'].notnull()\n",
    "test_idx = digits_test['1-vs-5'].notnull()\n",
    "\n",
    "X_train = digits_train.loc[train_idx, features]\n",
    "y_train = digits_train.loc[train_idx, '1-vs-5']\n",
    "X_test = digits_test.loc[test_idx, features]\n",
    "y_test = digits_test.loc[test_idx, '1-vs-5']\n",
    "\n",
    "result = []\n",
    "for Q, C in itertools.product([2, 5], [.001, .01, .1, 1.]):\n",
    "    svc = SVC(kernel='poly', degree=Q, C=C, gamma=1, coef0=1)\n",
    "    svc.fit(X_train, y_train)    \n",
    "    result.append((Q, C, svc.n_support_.sum(),\n",
    "                   sum(svc.predict(X_train) != y_train) / y_train.size,\n",
    "                   sum(svc.predict(X_test) != y_test) / y_test.size))\n",
    "\n",
    "result = pd.DataFrame(data=result, columns=['Q', 'C', 'n_sv', 'Ein', 'Eout'])"
   ]
  },
  {
   "cell_type": "code",
   "execution_count": 83,
   "metadata": {},
   "outputs": [
    {
     "data": {
      "text/html": [
       "<div>\n",
       "<style>\n",
       "    .dataframe thead tr:only-child th {\n",
       "        text-align: right;\n",
       "    }\n",
       "\n",
       "    .dataframe thead th {\n",
       "        text-align: left;\n",
       "    }\n",
       "\n",
       "    .dataframe tbody tr th {\n",
       "        vertical-align: top;\n",
       "    }\n",
       "</style>\n",
       "<table border=\"1\" class=\"dataframe\">\n",
       "  <thead>\n",
       "    <tr style=\"text-align: right;\">\n",
       "      <th></th>\n",
       "      <th>Q</th>\n",
       "      <th>C</th>\n",
       "      <th>n_sv</th>\n",
       "      <th>Ein</th>\n",
       "      <th>Eout</th>\n",
       "    </tr>\n",
       "  </thead>\n",
       "  <tbody>\n",
       "    <tr>\n",
       "      <th>0</th>\n",
       "      <td>2</td>\n",
       "      <td>0.001</td>\n",
       "      <td>76</td>\n",
       "      <td>0.004484</td>\n",
       "      <td>0.016509</td>\n",
       "    </tr>\n",
       "    <tr>\n",
       "      <th>1</th>\n",
       "      <td>2</td>\n",
       "      <td>0.010</td>\n",
       "      <td>34</td>\n",
       "      <td>0.004484</td>\n",
       "      <td>0.018868</td>\n",
       "    </tr>\n",
       "    <tr>\n",
       "      <th>2</th>\n",
       "      <td>2</td>\n",
       "      <td>0.100</td>\n",
       "      <td>24</td>\n",
       "      <td>0.004484</td>\n",
       "      <td>0.018868</td>\n",
       "    </tr>\n",
       "    <tr>\n",
       "      <th>3</th>\n",
       "      <td>2</td>\n",
       "      <td>1.000</td>\n",
       "      <td>24</td>\n",
       "      <td>0.003203</td>\n",
       "      <td>0.018868</td>\n",
       "    </tr>\n",
       "    <tr>\n",
       "      <th>4</th>\n",
       "      <td>5</td>\n",
       "      <td>0.001</td>\n",
       "      <td>25</td>\n",
       "      <td>0.004484</td>\n",
       "      <td>0.021226</td>\n",
       "    </tr>\n",
       "    <tr>\n",
       "      <th>5</th>\n",
       "      <td>5</td>\n",
       "      <td>0.010</td>\n",
       "      <td>23</td>\n",
       "      <td>0.003844</td>\n",
       "      <td>0.021226</td>\n",
       "    </tr>\n",
       "    <tr>\n",
       "      <th>6</th>\n",
       "      <td>5</td>\n",
       "      <td>0.100</td>\n",
       "      <td>25</td>\n",
       "      <td>0.003203</td>\n",
       "      <td>0.018868</td>\n",
       "    </tr>\n",
       "    <tr>\n",
       "      <th>7</th>\n",
       "      <td>5</td>\n",
       "      <td>1.000</td>\n",
       "      <td>21</td>\n",
       "      <td>0.003203</td>\n",
       "      <td>0.021226</td>\n",
       "    </tr>\n",
       "  </tbody>\n",
       "</table>\n",
       "</div>"
      ],
      "text/plain": [
       "   Q      C  n_sv       Ein      Eout\n",
       "0  2  0.001    76  0.004484  0.016509\n",
       "1  2  0.010    34  0.004484  0.018868\n",
       "2  2  0.100    24  0.004484  0.018868\n",
       "3  2  1.000    24  0.003203  0.018868\n",
       "4  5  0.001    25  0.004484  0.021226\n",
       "5  5  0.010    23  0.003844  0.021226\n",
       "6  5  0.100    25  0.003203  0.018868\n",
       "7  5  1.000    21  0.003203  0.021226"
      ]
     },
     "execution_count": 83,
     "metadata": {},
     "output_type": "execute_result"
    }
   ],
   "source": [
    "result"
   ]
  },
  {
   "cell_type": "markdown",
   "metadata": {},
   "source": [
    "### Cross Validation"
   ]
  },
  {
   "cell_type": "code",
   "execution_count": 111,
   "metadata": {},
   "outputs": [
    {
     "name": "stderr",
     "output_type": "stream",
     "text": [
      "100%|██████████| 100/100 [00:21<00:00,  4.62it/s]\n"
     ]
    },
    {
     "data": {
      "text/plain": [
       "defaultdict(int, {0.001: 55, 0.01: 17, 0.10000000000000001: 13, 1.0: 15})"
      ]
     },
     "execution_count": 111,
     "metadata": {},
     "output_type": "execute_result"
    }
   ],
   "source": [
    "idx = digits_train['1-vs-5'].notnull()\n",
    "X = digits_train.loc[idx, features].values\n",
    "y = digits_train.loc[idx, '1-vs-5'].values\n",
    "\n",
    "total_results = defaultdict(int)\n",
    "for run in tqdm.tqdm(range(100)):\n",
    "    skf = StratifiedKFold(y, n_folds=10, shuffle=True)\n",
    "    \n",
    "    run_results = []\n",
    "    for C in [0.0001, 0.001, 0.01, 0.1, 1]:\n",
    "        svc = SVC(kernel='poly', degree=2, gamma=1, coef0=1, C=C)\n",
    "        \n",
    "        err_val = []\n",
    "        for train_idx, val_idx in skf:\n",
    "            X_train, X_val = X[train_idx], X[val_idx]\n",
    "            y_train, y_val = y[train_idx], y[val_idx]            \n",
    "            svc.fit(X_train, y_train)\n",
    "            e = sum(svc.predict(X_val) != y_val) / y_val.size            \n",
    "            err_val.append(e)\n",
    "        \n",
    "        mean_err_val = np.mean(err_val)        \n",
    "        run_results.append((C, mean_err_val))\n",
    "    \n",
    "    run_results = pd.DataFrame(data=run_results, columns=['C', 'Ecv'])\n",
    "    selected_C = run_results.sort_values(by=['Ecv', 'C'], ascending=[True, True]).iloc[0]['C']\n",
    "    \n",
    "    total_results[selected_C] += 1\n",
    "\n",
    "total_results"
   ]
  },
  {
   "cell_type": "code",
   "execution_count": null,
   "metadata": {},
   "outputs": [],
   "source": []
  },
  {
   "cell_type": "code",
   "execution_count": null,
   "metadata": {},
   "outputs": [],
   "source": []
  },
  {
   "cell_type": "code",
   "execution_count": null,
   "metadata": {},
   "outputs": [],
   "source": []
  }
 ],
 "metadata": {
  "kernelspec": {
   "display_name": "Python 3",
   "language": "python",
   "name": "python3"
  },
  "language_info": {
   "codemirror_mode": {
    "name": "ipython",
    "version": 3
   },
   "file_extension": ".py",
   "mimetype": "text/x-python",
   "name": "python",
   "nbconvert_exporter": "python",
   "pygments_lexer": "ipython3",
   "version": "3.5.2"
  }
 },
 "nbformat": 4,
 "nbformat_minor": 2
}

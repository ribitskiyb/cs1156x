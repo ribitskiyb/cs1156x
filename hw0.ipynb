{
 "cells": [
  {
   "cell_type": "code",
   "execution_count": 1,
   "metadata": {
    "collapsed": true
   },
   "outputs": [],
   "source": [
    "import pandas as pd\n",
    "import numpy as np\n",
    "import matplotlib.pyplot as plt\n",
    "\n",
    "%matplotlib inline"
   ]
  },
  {
   "cell_type": "markdown",
   "metadata": {},
   "source": [
    "$\n",
    "\\begin{gather}\n",
    "\\frac{x-x_1}{x_2-x_1}=\\frac{y-y_1}{y_2-y_1} \\\\\n",
    "\\Downarrow \\\\\n",
    "(y_2-y_1)x+(x_1-x_2)y+(x_2y_1-x_1y_2)=0 \\\\\n",
    "\\Downarrow \\\\\n",
    "y = \\frac{y_2-y_1}{x_2-x_1}x + \\frac{x_2y_1-x_1y_2}{x_2-x_1}\n",
    "\\end{gather}\n",
    "$"
   ]
  },
  {
   "cell_type": "code",
   "execution_count": 148,
   "metadata": {
    "collapsed": true
   },
   "outputs": [],
   "source": [
    "interval = np.array([-1., 1.])"
   ]
  },
  {
   "cell_type": "code",
   "execution_count": 120,
   "metadata": {
    "collapsed": true
   },
   "outputs": [],
   "source": [
    "n_points = 100\n",
    "points = np.append(np.ones((n_points,1)),\n",
    "                   np.random.uniform(*interval, (n_points, 2)),\n",
    "                   axis=1)"
   ]
  },
  {
   "cell_type": "code",
   "execution_count": 266,
   "metadata": {},
   "outputs": [],
   "source": [
    "def get_line(x1, y1, x2, y2):\n",
    "    \"\"\"\n",
    "    Build a 2D line by two points.\n",
    "    Returns line's function, weight vector (w0, w1, w2), slope and intercept\n",
    "    \"\"\"\n",
    "    A = y2 - y1\n",
    "    B = x1 - x2\n",
    "    C = x2*y1 - x1*y2\n",
    "    \n",
    "    @np.vectorize\n",
    "    def line(x):\n",
    "        return A/-B*x + C/-B\n",
    "    \n",
    "    return line, np.array([C, A, B]), A/-B, C/-B\n",
    "\n",
    "support_points = np.random.uniform(*interval, 4)\n",
    "#support_points = 0, 0, 1, 1\n",
    "f, w, slope, intercept = get_line(*support_points)\n",
    "\n",
    "dotp = np.fromiter([np.dot(p, w) for p in points], dtype=np.float, count=n_points)"
   ]
  },
  {
   "cell_type": "code",
   "execution_count": 280,
   "metadata": {},
   "outputs": [
    {
     "data": {
      "image/png": "[encoded data removed]",
      "text/plain": [
       "<matplotlib.figure.Figure at 0xb1e49e8>"
      ]
     },
     "metadata": {},
     "output_type": "display_data"
    }
   ],
   "source": [
    "plt.figure(figsize=(6,6))\n",
    "plt.xlim(*interval*1.1)\n",
    "plt.ylim(*interval*1.1)\n",
    "ax = plt.gca()\n",
    "ax.spines['top'].set_color('none')\n",
    "ax.spines['right'].set_color('none')\n",
    "ax.spines['bottom'].set_position('zero')\n",
    "ax.spines['left'].set_position('zero')\n",
    "ticks = np.linspace(*interval, 11)\n",
    "plt.xticks(ticks)\n",
    "plt.yticks(ticks)\n",
    "\n",
    "plt.plot(interval, f(interval), linestyle=':', color='black')\n",
    "plt.plot(*support_points[:2], color='black', marker='X', markersize=8)\n",
    "plt.plot(*support_points[-2:], color='cyan', marker='^', markersize=8)\n",
    "plt.scatter(*points[:, 1:].T, c=[('r', 'g')[val > 0] for val in dotp])\n",
    "\n",
    "plt.show()"
   ]
  },
  {
   "cell_type": "code",
   "execution_count": null,
   "metadata": {
    "collapsed": true
   },
   "outputs": [],
   "source": []
  },
  {
   "cell_type": "code",
   "execution_count": null,
   "metadata": {
    "collapsed": true
   },
   "outputs": [],
   "source": []
  },
  {
   "cell_type": "code",
   "execution_count": null,
   "metadata": {
    "collapsed": true
   },
   "outputs": [],
   "source": []
  },
  {
   "cell_type": "code",
   "execution_count": null,
   "metadata": {
    "collapsed": true
   },
   "outputs": [],
   "source": []
  },
  {
   "cell_type": "code",
   "execution_count": null,
   "metadata": {
    "collapsed": true
   },
   "outputs": [],
   "source": []
  },
  {
   "cell_type": "code",
   "execution_count": null,
   "metadata": {
    "collapsed": true
   },
   "outputs": [],
   "source": []
  },
  {
   "cell_type": "code",
   "execution_count": null,
   "metadata": {
    "collapsed": true
   },
   "outputs": [],
   "source": []
  },
  {
   "cell_type": "code",
   "execution_count": null,
   "metadata": {
    "collapsed": true
   },
   "outputs": [],
   "source": []
  }
 ],
 "metadata": {
  "kernelspec": {
   "display_name": "Python 3",
   "language": "python",
   "name": "python3"
  },
  "language_info": {
   "codemirror_mode": {
    "name": "ipython",
    "version": 3
   },
   "file_extension": ".py",
   "mimetype": "text/x-python",
   "name": "python",
   "nbconvert_exporter": "python",
   "pygments_lexer": "ipython3",
   "version": "3.5.2"
  }
 },
 "nbformat": 4,
 "nbformat_minor": 2
}

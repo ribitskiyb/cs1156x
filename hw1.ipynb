{
 "cells": [
  {
   "cell_type": "code",
   "execution_count": 36,
   "metadata": {},
   "outputs": [],
   "source": [
    "import pandas as pd\n",
    "import numpy as np\n",
    "import itertools\n",
    "import matplotlib.pyplot as plt\n",
    "\n",
    "%matplotlib inline"
   ]
  },
  {
   "cell_type": "code",
   "execution_count": 5,
   "metadata": {},
   "outputs": [],
   "source": [
    "INTERVAL = np.array([-1., 1.])"
   ]
  },
  {
   "cell_type": "code",
   "execution_count": 8,
   "metadata": {},
   "outputs": [],
   "source": [
    "def get_line(x1, y1, x2, y2):\n",
    "    A = y2 - y1\n",
    "    B = x1 - x2\n",
    "    C = x2*y1 - x1*y2\n",
    "    \n",
    "    return np.array([C, A, B])\n",
    "\n",
    "def get_points(n_points):\n",
    "    return np.append(np.ones((n_points, 1)),\n",
    "                     np.random.uniform(*INTERVAL, (n_points, 2)),\n",
    "                     axis=1)\n",
    "\n",
    "def label_points(X, w):\n",
    "    return np.sign(np.dot(X, w))\n",
    "\n",
    "def run_PLA(X, y_true):\n",
    "    w_hat = np.zeros(3)\n",
    "    \n",
    "    for n_iter in itertools.count(start=1, step=1):\n",
    "        clf_result = enumerate(label_points(X, w_hat) == y_true)\n",
    "        misclassified_idx = [idx for idx, is_correct in clf_result if not is_correct]\n",
    "        if not misclassified_idx:\n",
    "            break\n",
    "        rand_misclf_idx = np.random.choice(misclassified_idx)        \n",
    "        w_hat = w_hat + y_true[rand_misclf_idx] * X[rand_misclf_idx]\n",
    "        \n",
    "    return w_hat, n_iter\n",
    "\n",
    "def run_experiment(n_points=10, n_runs=1000, test_sample_size=1e5):\n",
    "    print(\"Running PLA {0} times on a set of {1} points, evaluating on a set of {2:.0f} points.\"\n",
    "          .format(n_runs, n_points, test_sample_size))\n",
    "    \n",
    "    n_iters = []\n",
    "    disagrements = []_\n",
    "    for i in range(n_runs):\n",
    "        # Generate random line -- a target function\n",
    "        support_points = np.random.uniform(*INTERVAL, 4)\n",
    "        w_true = get_line(*support_points)\n",
    "        \n",
    "        # Generate points and classify them\n",
    "        X_train = get_points(n_points)\n",
    "        y_train_true = label_points(X_train, w_true)\n",
    "        \n",
    "        # Learn approximation function\n",
    "        w_hat, n_iter = run_PLA(X_train, y_train_true)\n",
    "        \n",
    "        # Evaluate out-of-sample performance\n",
    "        X_test = get_points(int(test_sample_size))\n",
    "        y_test_true = label_points(X_test, w_true)\n",
    "        y_pred = label_points(X_test, w_hat)\n",
    "        disagreement = np.sum(y_test_true != y_pred) / test_sample_size\n",
    "        \n",
    "        n_iters.append(n_iter)\n",
    "        disagrements.append(disagreement)\n",
    "    \n",
    "    print(\"Avg. iterations to converge: {:.1f}\".format(np.mean(n_iters)))\n",
    "    print(\"Avg. out-of-sample disagreement probability: {:.3f}\".format(np.mean(disagrements)))"
   ]
  },
  {
   "cell_type": "code",
   "execution_count": 135,
   "metadata": {},
   "outputs": [
    {
     "name": "stdout",
     "output_type": "stream",
     "text": [
      "Running PLA 1000 times on a set of 10 points, evaluating on a set of 100000 points.\n",
      "Avg. iterations to converge: 10.6\n",
      "Avg. out-of-sample disagreement probability: 0.106\n"
     ]
    }
   ],
   "source": [
    "run_experiment()"
   ]
  },
  {
   "cell_type": "code",
   "execution_count": 136,
   "metadata": {},
   "outputs": [
    {
     "name": "stdout",
     "output_type": "stream",
     "text": [
      "Running PLA 1000 times on a set of 100 points, evaluating on a set of 100000 points.\n",
      "Avg. iterations to converge: 123.9\n",
      "Avg. out-of-sample disagreement probability: 0.013\n"
     ]
    }
   ],
   "source": [
    "run_experiment(n_points=100)"
   ]
  },
  {
   "cell_type": "code",
   "execution_count": null,
   "metadata": {},
   "outputs": [],
   "source": []
  },
  {
   "cell_type": "code",
   "execution_count": 60,
   "metadata": {},
   "outputs": [
    {
     "data": {
      "image/png": "[encoded data removed]",
      "text/plain": [
       "<matplotlib.figure.Figure at 0x7f4053b96e10>"
      ]
     },
     "metadata": {},
     "output_type": "display_data"
    }
   ],
   "source": [
    "## Plotting in- vs out-of-sample errors for a PLA\n",
    "\n",
    "# Setup\n",
    "pop_size = int(1e6)\n",
    "samp_size = 100\n",
    "pla_iter = 20\n",
    "\n",
    "# Get population and sample training set from it\n",
    "pop = get_points(pop_size)\n",
    "samp_idx = np.random.choice(pop_size, size=samp_size, replace=False)\n",
    "sample = pop[samp_idx, :]\n",
    "\n",
    "# Get true labels and labels of the training set\n",
    "w_true = get_line(*np.random.uniform(*INTERVAL, 4))\n",
    "y_true_pop = label_points(pop, w_true)\n",
    "y_true_samp = y_true_pop[samp_idx]\n",
    "\n",
    "# Run PLA and track in- and out-of-sample errors\n",
    "Ein_evolution  = np.empty(pla_iter, dtype=np.float)\n",
    "Eout_evolution = np.empty(pla_iter, dtype=np.float)\n",
    "w_hat = np.zeros(3)\n",
    "for i in range(pla_iter):    \n",
    "    misclassified_samp = label_points(sample, w_hat) != y_true_samp\n",
    "    misclassified_pop  = label_points(pop,    w_hat) != y_true_pop\n",
    "    \n",
    "    Ein_evolution[i]  = np.sum(misclassified_samp) / samp_size\n",
    "    Eout_evolution[i] = np.sum(misclassified_pop)  / pop_size\n",
    "    \n",
    "    misclassified_idx = np.where(misclassified_samp)[0]\n",
    "    if not misclassified_idx.size:\n",
    "        break\n",
    "    rand_misclf_idx = np.random.choice(misclassified_idx)        \n",
    "    w_hat += y_true_samp[rand_misclf_idx] * sample[rand_misclf_idx]\n",
    "\n",
    "# Plot tracked errors5\n",
    "iter_num = range(1, pla_iter+1)\n",
    "plt.plot(iter_num, Ein_evolution, label='in-sample')\n",
    "plt.plot(iter_num, Eout_evolution, label='out-of-sample')\n",
    "plt.xlabel('Iteration')\n",
    "plt.ylabel('Error')\n",
    "plt.xticks(iter_num)\n",
    "plt.legend()\n",
    "plt.show()"
   ]
  }
 ],
 "metadata": {
  "kernelspec": {
   "display_name": "Python 3",
   "language": "python",
   "name": "python3"
  },
  "language_info": {
   "codemirror_mode": {
    "name": "ipython",
    "version": 3
   },
   "file_extension": ".py",
   "mimetype": "text/x-python",
   "name": "python",
   "nbconvert_exporter": "python",
   "pygments_lexer": "ipython3",
   "version": "3.5.2"
  }
 },
 "nbformat": 4,
 "nbformat_minor": 2
}

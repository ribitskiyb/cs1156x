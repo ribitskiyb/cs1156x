{
 "cells": [
  {
   "cell_type": "code",
   "execution_count": 44,
   "metadata": {
    "collapsed": true
   },
   "outputs": [],
   "source": [
    "import pandas as pd\n",
    "import numpy as np\n",
    "import itertools"
   ]
  },
  {
   "cell_type": "code",
   "execution_count": 42,
   "metadata": {
    "collapsed": true
   },
   "outputs": [],
   "source": [
    "INTERVAL = np.array([-1., 1.])"
   ]
  },
  {
   "cell_type": "code",
   "execution_count": 133,
   "metadata": {},
   "outputs": [],
   "source": [
    "def get_line(x1, y1, x2, y2):\n",
    "    A = y2 - y1\n",
    "    B = x1 - x2\n",
    "    C = x2*y1 - x1*y2\n",
    "    \n",
    "    return np.array([C, A, B])\n",
    "\n",
    "def get_sample(sample_size):\n",
    "    return np.append(np.ones((sample_size, 1)),\n",
    "                     np.random.uniform(*INTERVAL, (sample_size, 2)),\n",
    "                     axis=1)\n",
    "\n",
    "def label_points(X, w):\n",
    "    return np.sign(np.dot(X, w))\n",
    "\n",
    "def run_PLA(X, y_true):\n",
    "    w_hat = np.zeros(3)\n",
    "    \n",
    "    for n_iter in itertools.count(start=1, step=1):\n",
    "        clf_result = enumerate(label_points(X, w_hat) == y_true)\n",
    "        misclassified_idx = [idx for idx, is_correct in clf_result if not is_correct]\n",
    "        if not misclassified_idx:\n",
    "            break\n",
    "        rand_misclf_idx = np.random.choice(misclassified_idx)        \n",
    "        w_hat = w_hat + y_true[rand_misclf_idx] * X[rand_misclf_idx]\n",
    "        \n",
    "    return w_hat, n_iter\n",
    "\n",
    "def run_experiment(n_points=10, n_runs=1000, test_sample_size=1e5):\n",
    "    print(\"Running PLA {0} times on a set of {1} points, evaluating on a set of {2:.0f} points.\"\n",
    "          .format(n_runs, n_points, test_sample_size))\n",
    "    \n",
    "    n_iters = []\n",
    "    disagrements = []\n",
    "    for i in range(n_runs):\n",
    "        # Generate random line -- a target function\n",
    "        support_points = np.random.uniform(*INTERVAL, 4)\n",
    "        w_true = get_line(*support_points)\n",
    "        \n",
    "        # Generate points and classify them\n",
    "        X_train = get_sample(n_points)\n",
    "        y_train_true = label_points(X_train, w_true)\n",
    "        \n",
    "        # Learn approximation function\n",
    "        w_hat, n_iter = run_PLA(X_train, y_train_true)\n",
    "        \n",
    "        # Evaluate out-of-sample performance\n",
    "        X_test = get_sample(int(test_sample_size))\n",
    "        y_test_true = label_points(X_test, w_true)\n",
    "        y_pred = label_points(X_test, w_hat)\n",
    "        disagreement = np.sum(y_test_true != y_pred) / test_sample_size\n",
    "        \n",
    "        n_iters.append(n_iter)\n",
    "        disagrements.append(disagreement)\n",
    "    \n",
    "    print(\"Avg. iterations to converge: {:.1f}\".format(np.mean(n_iters)))\n",
    "    print(\"Avg. out-of-sample disagreement probability: {:.3f}\".format(np.mean(disagrements)))"
   ]
  },
  {
   "cell_type": "code",
   "execution_count": 135,
   "metadata": {},
   "outputs": [
    {
     "name": "stdout",
     "output_type": "stream",
     "text": [
      "Running PLA 1000 times on a set of 10 points, evaluating on a set of 100000 points.\n",
      "Avg. iterations to converge: 10.6\n",
      "Avg. out-of-sample disagreement probability: 0.106\n"
     ]
    }
   ],
   "source": [
    "run_experiment()"
   ]
  },
  {
   "cell_type": "code",
   "execution_count": 136,
   "metadata": {},
   "outputs": [
    {
     "name": "stdout",
     "output_type": "stream",
     "text": [
      "Running PLA 1000 times on a set of 100 points, evaluating on a set of 100000 points.\n",
      "Avg. iterations to converge: 123.9\n",
      "Avg. out-of-sample disagreement probability: 0.013\n"
     ]
    }
   ],
   "source": [
    "run_experiment(n_points=100)"
   ]
  }
 ],
 "metadata": {
  "kernelspec": {
   "display_name": "Python 3",
   "language": "python",
   "name": "python3"
  },
  "language_info": {
   "codemirror_mode": {
    "name": "ipython",
    "version": 3
   },
   "file_extension": ".py",
   "mimetype": "text/x-python",
   "name": "python",
   "nbconvert_exporter": "python",
   "pygments_lexer": "ipython3",
   "version": "3.6.1"
  }
 },
 "nbformat": 4,
 "nbformat_minor": 2
}

{
 "cells": [
  {
   "cell_type": "code",
   "execution_count": 35,
   "metadata": {},
   "outputs": [],
   "source": [
    "import pandas as pd\n",
    "import numpy as np\n",
    "import matplotlib.pyplot as plt\n",
    "import itertools\n",
    "\n",
    "%matplotlib inline"
   ]
  },
  {
   "cell_type": "code",
   "execution_count": 2,
   "metadata": {},
   "outputs": [],
   "source": [
    "interval = np.array([-1., 1.])"
   ]
  },
  {
   "cell_type": "code",
   "execution_count": 18,
   "metadata": {},
   "outputs": [],
   "source": [
    "def get_line(x1, y1, x2, y2):\n",
    "    A = y2 - y1\n",
    "    B = x1 - x2\n",
    "    C = x2*y1 - x1*y2\n",
    "    \n",
    "    @np.vectorize\n",
    "    def line(x):\n",
    "        return A/-B*x + C/-B\n",
    "    \n",
    "    return line, np.array([C, A, B])"
   ]
  },
  {
   "cell_type": "code",
   "execution_count": 45,
   "metadata": {},
   "outputs": [],
   "source": [
    "n_points = 10\n",
    "X = np.append(np.ones((n_points, 1)),\n",
    "              np.random.uniform(*interval, (n_points, 2)),\n",
    "              axis=1)"
   ]
  },
  {
   "cell_type": "code",
   "execution_count": null,
   "metadata": {},
   "outputs": [],
   "source": []
  },
  {
   "cell_type": "code",
   "execution_count": 54,
   "metadata": {},
   "outputs": [],
   "source": [
    "support_points = np.random.uniform(*interval, 4)\n",
    "_, w_true = get_line(*support_points)\n",
    "\n",
    "y_true = np.sign(np.dot(X, w_true))"
   ]
  },
  {
   "cell_type": "code",
   "execution_count": 106,
   "metadata": {},
   "outputs": [],
   "source": [
    "def run_PLA(X, y_true):\n",
    "    w_hat = np.zeros(3)\n",
    "    \n",
    "    for n_iter in itertools.count(1, 1):\n",
    "        clf_result = list(enumerate(np.dot(X, w_hat) == y_true))\n",
    "        misclassified_idx = [idx for idx, is_correct in clf_result if not is_correct]\n",
    "        if not misclassified_idx:\n",
    "            break\n",
    "        rand_misclf_idx = np.random.choice(misclassified_idx)        \n",
    "        w_hat = w_hat + y_true[rand_misclf_idx] * X[rand_misclf_idx]\n",
    "        \n",
    "        if n_iter % 1000 == 0:\n",
    "            #print(\"Iterations so far: {0}\".format(n_iter), sep=\"\", end=\"\", flush=False)\n",
    "            print(misclassified_idx)\n",
    "        \n",
    "    return w_hat, n_iter"
   ]
  },
  {
   "cell_type": "code",
   "execution_count": null,
   "metadata": {},
   "outputs": [],
   "source": []
  },
  {
   "cell_type": "code",
   "execution_count": null,
   "metadata": {},
   "outputs": [],
   "source": []
  },
  {
   "cell_type": "code",
   "execution_count": null,
   "metadata": {},
   "outputs": [],
   "source": []
  },
  {
   "cell_type": "code",
   "execution_count": null,
   "metadata": {},
   "outputs": [],
   "source": []
  },
  {
   "cell_type": "code",
   "execution_count": null,
   "metadata": {},
   "outputs": [],
   "source": []
  },
  {
   "cell_type": "code",
   "execution_count": null,
   "metadata": {},
   "outputs": [],
   "source": []
  },
  {
   "cell_type": "code",
   "execution_count": null,
   "metadata": {},
   "outputs": [],
   "source": []
  },
  {
   "cell_type": "code",
   "execution_count": null,
   "metadata": {},
   "outputs": [],
   "source": []
  }
 ],
 "metadata": {
  "kernelspec": {
   "display_name": "Python 3",
   "language": "python",
   "name": "python3"
  },
  "language_info": {
   "codemirror_mode": {
    "name": "ipython",
    "version": 3
   },
   "file_extension": ".py",
   "mimetype": "text/x-python",
   "name": "python",
   "nbconvert_exporter": "python",
   "pygments_lexer": "ipython3",
   "version": "3.5.2"
  }
 },
 "nbformat": 4,
 "nbformat_minor": 2
}
